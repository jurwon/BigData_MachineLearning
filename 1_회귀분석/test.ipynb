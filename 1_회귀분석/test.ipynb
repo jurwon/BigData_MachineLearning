{
 "cells": [
  {
   "cell_type": "markdown",
   "metadata": {},
   "source": [
    "# 머신러닝, 데이터에서 규칙을 찾고, 학습하고, 결과를 예측하는 분석 방법\n",
    "## 인공지능의 한 분야\n",
    "## 2가지 학습 방법\n",
    "### 1) 지도 학습(답지 있음) ex) 통계자료가 있다. 의료기관수, 암 진단 등 =>  타겟,라벨이 있다. -> 정확도가 높다\n",
    "### 2) 비지도 학습 -> 데이터 수집 -> 정확도 낮음\n",
    "\n",
    "### 해결하는 주요 문제 1)회귀 2)분류 3) 군집\n",
    "### 사이킷런의 모듈을 이용해서, 위의 머신러닝 테스트를 진행할 예정\n",
    "### 논문, 트위터, 유튜브, 깃허브 등을 이용해서 관련 자료를 많이 수집. GPT도 많이 사용\n",
    "\n",
    "### 레스트 서버를 구축시, 파이썬에 과학에 관련된 라이브러리가 많다 보니,\n",
    "### 파이썬 관련 서비스를 제공하는 REST API를 따로 만들기도 함\n",
    "### Django 장고(파이썬 기반의 웹 프레임워크), flask, FAST API, 전부 다 파이썬 기반\n",
    "\n",
    "### 앞단 (기본적인 웹, 리액트, 안드로이드 앱)\n",
    "### 뒷단 (스프링, 노트JS, 장고, 플라스크, FAST API, 파이어베이스 등 ,네이버, 카카오, 구글 API들...)\n",
    "\n",
    "\n"
   ]
  },
  {
   "cell_type": "markdown",
   "metadata": {},
   "source": [
    "### 답이 있는 데이터, 지도 학습\n",
    "## 주택 가격 예측\n",
    "\n",
    "## 자동차 연비 예측"
   ]
  },
  {
   "cell_type": "markdown",
   "metadata": {},
   "source": [
    "## 샘플 데이터는, 사이킷런에 내장된 데이터, 보스톤 집값을 사용하면 됩니다.\n",
    "### 버전이 변경 되어서, 데이터를 받으려면, 버전 맞춰주는 작업이 필요."
   ]
  },
  {
   "cell_type": "markdown",
   "metadata": {},
   "source": [
    "### 일반 프로그램 진행 방식, 머신러닝 진행 방식\n",
    "### 일반 프로그램 진행 방식\n",
    "### 입력값(X) ->일반 프로그램(예)함수) -> 결괏값(Y)\n",
    "### 새로운 입력값(X) -> 일반 프로그램(예)함수) -> 새로운 결괎값(Y)\n",
    "\n",
    "### 머신러닝 진행 방식\n",
    "### 입력값(X) -> ML프로그램 (예)함수) -> 학습 모델 -> 결괏값(Y)\n",
    "### 새로운 입력값(x) -> 학습모델 -> 새로운 출력값(y) = 예측값"
   ]
  },
  {
   "cell_type": "markdown",
   "metadata": {},
   "source": [
    "### 머신러닝 프로세스\n",
    "### 1) 데이터 수집\n",
    "### 2)데이터 전처리 및 학습/ 테스트분할 ->100문제 중 70:학습, 30:평가\n",
    "### 3)모델 구축 및 학습 \n",
    "### 4) 모델 평가 \n",
    "### 5) 예측"
   ]
  },
  {
   "cell_type": "markdown",
   "metadata": {},
   "source": [
    "### 분석 평가 지표\n",
    "### 오류 부분의 지표가 낮을수록 좋다.\n",
    "### MAE : Mean Absolute Error : 오류의 절댓값 평균\n",
    "### MSE : Mean Squared Error : 오류의 제곱 평균\n",
    "### RMSE : Root Mean Squared Error : ㅇ류의 제곱 평균의 제곱근 ex) 4, 4의 제곱근:2\n",
    "\n",
    "### 값이 클수록, 실제값에 가깝다.\n",
    "### R^2 : Variance Score : 결정계수, 예측값의 분산/ 실제값의 분산으로 나눈 비율\n"
   ]
  },
  {
   "cell_type": "code",
   "execution_count": 27,
   "metadata": {},
   "outputs": [
    {
     "name": "stdout",
     "output_type": "stream",
     "text": [
      "Requirement already satisfied: scikit-learn==1.0.2 in c:\\python\\python310\\lib\\site-packages (1.0.2)\n",
      "Requirement already satisfied: numpy>=1.14.6 in c:\\python\\python310\\lib\\site-packages (from scikit-learn==1.0.2) (1.26.2)\n",
      "Requirement already satisfied: scipy>=1.1.0 in c:\\python\\python310\\lib\\site-packages (from scikit-learn==1.0.2) (1.11.4)\n",
      "Requirement already satisfied: joblib>=0.11 in c:\\python\\python310\\lib\\site-packages (from scikit-learn==1.0.2) (1.3.2)\n",
      "Requirement already satisfied: threadpoolctl>=2.0.0 in c:\\python\\python310\\lib\\site-packages (from scikit-learn==1.0.2) (3.2.0)\n"
     ]
    }
   ],
   "source": [
    "# 기존에는 ->\n",
    "# !pip install sklearn\n",
    "!pip install scikit-learn==1.0.2"
   ]
  },
  {
   "cell_type": "code",
   "execution_count": 28,
   "metadata": {},
   "outputs": [
    {
     "name": "stderr",
     "output_type": "stream",
     "text": [
      "c:\\Python\\Python310\\lib\\site-packages\\sklearn\\utils\\deprecation.py:87: FutureWarning: Function load_boston is deprecated; `load_boston` is deprecated in 1.0 and will be removed in 1.2.\n",
      "\n",
      "    The Boston housing prices dataset has an ethical problem. You can refer to\n",
      "    the documentation of this function for further details.\n",
      "\n",
      "    The scikit-learn maintainers therefore strongly discourage the use of this\n",
      "    dataset unless the purpose of the code is to study and educate about\n",
      "    ethical issues in data science and machine learning.\n",
      "\n",
      "    In this special case, you can fetch the dataset from the original\n",
      "    source::\n",
      "\n",
      "        import pandas as pd\n",
      "        import numpy as np\n",
      "\n",
      "\n",
      "        data_url = \"http://lib.stat.cmu.edu/datasets/boston\"\n",
      "        raw_df = pd.read_csv(data_url, sep=\"\\s+\", skiprows=22, header=None)\n",
      "        data = np.hstack([raw_df.values[::2, :], raw_df.values[1::2, :2]])\n",
      "        target = raw_df.values[1::2, 2]\n",
      "\n",
      "    Alternative datasets include the California housing dataset (i.e.\n",
      "    :func:`~sklearn.datasets.fetch_california_housing`) and the Ames housing\n",
      "    dataset. You can load the datasets as follows::\n",
      "\n",
      "        from sklearn.datasets import fetch_california_housing\n",
      "        housing = fetch_california_housing()\n",
      "\n",
      "    for the California housing dataset and::\n",
      "\n",
      "        from sklearn.datasets import fetch_openml\n",
      "        housing = fetch_openml(name=\"house_prices\", as_frame=True)\n",
      "\n",
      "    for the Ames housing dataset.\n",
      "    \n",
      "  warnings.warn(msg, category=FutureWarning)\n"
     ]
    }
   ],
   "source": [
    "import numpy as numpy\n",
    "import pandas as pd\n",
    "\n",
    "from sklearn.datasets import load_boston\n",
    "boston = load_boston()"
   ]
  },
  {
   "cell_type": "code",
   "execution_count": 29,
   "metadata": {},
   "outputs": [
    {
     "data": {
      "text/html": [
       "<div>\n",
       "<style scoped>\n",
       "    .dataframe tbody tr th:only-of-type {\n",
       "        vertical-align: middle;\n",
       "    }\n",
       "\n",
       "    .dataframe tbody tr th {\n",
       "        vertical-align: top;\n",
       "    }\n",
       "\n",
       "    .dataframe thead th {\n",
       "        text-align: right;\n",
       "    }\n",
       "</style>\n",
       "<table border=\"1\" class=\"dataframe\">\n",
       "  <thead>\n",
       "    <tr style=\"text-align: right;\">\n",
       "      <th></th>\n",
       "      <th>CRIM</th>\n",
       "      <th>ZN</th>\n",
       "      <th>INDUS</th>\n",
       "      <th>CHAS</th>\n",
       "      <th>NOX</th>\n",
       "      <th>RM</th>\n",
       "      <th>AGE</th>\n",
       "      <th>DIS</th>\n",
       "      <th>RAD</th>\n",
       "      <th>TAX</th>\n",
       "      <th>PTRATIO</th>\n",
       "      <th>B</th>\n",
       "      <th>LSTAT</th>\n",
       "    </tr>\n",
       "  </thead>\n",
       "  <tbody>\n",
       "    <tr>\n",
       "      <th>0</th>\n",
       "      <td>0.00632</td>\n",
       "      <td>18.0</td>\n",
       "      <td>2.31</td>\n",
       "      <td>0.0</td>\n",
       "      <td>0.538</td>\n",
       "      <td>6.575</td>\n",
       "      <td>65.2</td>\n",
       "      <td>4.0900</td>\n",
       "      <td>1.0</td>\n",
       "      <td>296.0</td>\n",
       "      <td>15.3</td>\n",
       "      <td>396.90</td>\n",
       "      <td>4.98</td>\n",
       "    </tr>\n",
       "    <tr>\n",
       "      <th>1</th>\n",
       "      <td>0.02731</td>\n",
       "      <td>0.0</td>\n",
       "      <td>7.07</td>\n",
       "      <td>0.0</td>\n",
       "      <td>0.469</td>\n",
       "      <td>6.421</td>\n",
       "      <td>78.9</td>\n",
       "      <td>4.9671</td>\n",
       "      <td>2.0</td>\n",
       "      <td>242.0</td>\n",
       "      <td>17.8</td>\n",
       "      <td>396.90</td>\n",
       "      <td>9.14</td>\n",
       "    </tr>\n",
       "    <tr>\n",
       "      <th>2</th>\n",
       "      <td>0.02729</td>\n",
       "      <td>0.0</td>\n",
       "      <td>7.07</td>\n",
       "      <td>0.0</td>\n",
       "      <td>0.469</td>\n",
       "      <td>7.185</td>\n",
       "      <td>61.1</td>\n",
       "      <td>4.9671</td>\n",
       "      <td>2.0</td>\n",
       "      <td>242.0</td>\n",
       "      <td>17.8</td>\n",
       "      <td>392.83</td>\n",
       "      <td>4.03</td>\n",
       "    </tr>\n",
       "    <tr>\n",
       "      <th>3</th>\n",
       "      <td>0.03237</td>\n",
       "      <td>0.0</td>\n",
       "      <td>2.18</td>\n",
       "      <td>0.0</td>\n",
       "      <td>0.458</td>\n",
       "      <td>6.998</td>\n",
       "      <td>45.8</td>\n",
       "      <td>6.0622</td>\n",
       "      <td>3.0</td>\n",
       "      <td>222.0</td>\n",
       "      <td>18.7</td>\n",
       "      <td>394.63</td>\n",
       "      <td>2.94</td>\n",
       "    </tr>\n",
       "    <tr>\n",
       "      <th>4</th>\n",
       "      <td>0.06905</td>\n",
       "      <td>0.0</td>\n",
       "      <td>2.18</td>\n",
       "      <td>0.0</td>\n",
       "      <td>0.458</td>\n",
       "      <td>7.147</td>\n",
       "      <td>54.2</td>\n",
       "      <td>6.0622</td>\n",
       "      <td>3.0</td>\n",
       "      <td>222.0</td>\n",
       "      <td>18.7</td>\n",
       "      <td>396.90</td>\n",
       "      <td>5.33</td>\n",
       "    </tr>\n",
       "  </tbody>\n",
       "</table>\n",
       "</div>"
      ],
      "text/plain": [
       "      CRIM    ZN  INDUS  CHAS    NOX     RM   AGE     DIS  RAD    TAX  \\\n",
       "0  0.00632  18.0   2.31   0.0  0.538  6.575  65.2  4.0900  1.0  296.0   \n",
       "1  0.02731   0.0   7.07   0.0  0.469  6.421  78.9  4.9671  2.0  242.0   \n",
       "2  0.02729   0.0   7.07   0.0  0.469  7.185  61.1  4.9671  2.0  242.0   \n",
       "3  0.03237   0.0   2.18   0.0  0.458  6.998  45.8  6.0622  3.0  222.0   \n",
       "4  0.06905   0.0   2.18   0.0  0.458  7.147  54.2  6.0622  3.0  222.0   \n",
       "\n",
       "   PTRATIO       B  LSTAT  \n",
       "0     15.3  396.90   4.98  \n",
       "1     17.8  396.90   9.14  \n",
       "2     17.8  392.83   4.03  \n",
       "3     18.7  394.63   2.94  \n",
       "4     18.7  396.90   5.33  "
      ]
     },
     "execution_count": 29,
     "metadata": {},
     "output_type": "execute_result"
    }
   ],
   "source": [
    "# 사이킷런 내부 데이터 -> 메모리 -> dataFrame담기\n",
    "boston_df = pd.DataFrame(boston.data, columns=boston.feature_names)\n",
    "boston_df.head()"
   ]
  },
  {
   "cell_type": "code",
   "execution_count": 30,
   "metadata": {},
   "outputs": [
    {
     "data": {
      "text/html": [
       "<div>\n",
       "<style scoped>\n",
       "    .dataframe tbody tr th:only-of-type {\n",
       "        vertical-align: middle;\n",
       "    }\n",
       "\n",
       "    .dataframe tbody tr th {\n",
       "        vertical-align: top;\n",
       "    }\n",
       "\n",
       "    .dataframe thead th {\n",
       "        text-align: right;\n",
       "    }\n",
       "</style>\n",
       "<table border=\"1\" class=\"dataframe\">\n",
       "  <thead>\n",
       "    <tr style=\"text-align: right;\">\n",
       "      <th></th>\n",
       "      <th>CRIM</th>\n",
       "      <th>ZN</th>\n",
       "      <th>INDUS</th>\n",
       "      <th>CHAS</th>\n",
       "      <th>NOX</th>\n",
       "      <th>RM</th>\n",
       "      <th>AGE</th>\n",
       "      <th>DIS</th>\n",
       "      <th>RAD</th>\n",
       "      <th>TAX</th>\n",
       "      <th>PTRATIO</th>\n",
       "      <th>B</th>\n",
       "      <th>LSTAT</th>\n",
       "      <th>PRICE</th>\n",
       "    </tr>\n",
       "  </thead>\n",
       "  <tbody>\n",
       "    <tr>\n",
       "      <th>0</th>\n",
       "      <td>0.00632</td>\n",
       "      <td>18.0</td>\n",
       "      <td>2.31</td>\n",
       "      <td>0.0</td>\n",
       "      <td>0.538</td>\n",
       "      <td>6.575</td>\n",
       "      <td>65.2</td>\n",
       "      <td>4.0900</td>\n",
       "      <td>1.0</td>\n",
       "      <td>296.0</td>\n",
       "      <td>15.3</td>\n",
       "      <td>396.90</td>\n",
       "      <td>4.98</td>\n",
       "      <td>24.0</td>\n",
       "    </tr>\n",
       "    <tr>\n",
       "      <th>1</th>\n",
       "      <td>0.02731</td>\n",
       "      <td>0.0</td>\n",
       "      <td>7.07</td>\n",
       "      <td>0.0</td>\n",
       "      <td>0.469</td>\n",
       "      <td>6.421</td>\n",
       "      <td>78.9</td>\n",
       "      <td>4.9671</td>\n",
       "      <td>2.0</td>\n",
       "      <td>242.0</td>\n",
       "      <td>17.8</td>\n",
       "      <td>396.90</td>\n",
       "      <td>9.14</td>\n",
       "      <td>21.6</td>\n",
       "    </tr>\n",
       "    <tr>\n",
       "      <th>2</th>\n",
       "      <td>0.02729</td>\n",
       "      <td>0.0</td>\n",
       "      <td>7.07</td>\n",
       "      <td>0.0</td>\n",
       "      <td>0.469</td>\n",
       "      <td>7.185</td>\n",
       "      <td>61.1</td>\n",
       "      <td>4.9671</td>\n",
       "      <td>2.0</td>\n",
       "      <td>242.0</td>\n",
       "      <td>17.8</td>\n",
       "      <td>392.83</td>\n",
       "      <td>4.03</td>\n",
       "      <td>34.7</td>\n",
       "    </tr>\n",
       "    <tr>\n",
       "      <th>3</th>\n",
       "      <td>0.03237</td>\n",
       "      <td>0.0</td>\n",
       "      <td>2.18</td>\n",
       "      <td>0.0</td>\n",
       "      <td>0.458</td>\n",
       "      <td>6.998</td>\n",
       "      <td>45.8</td>\n",
       "      <td>6.0622</td>\n",
       "      <td>3.0</td>\n",
       "      <td>222.0</td>\n",
       "      <td>18.7</td>\n",
       "      <td>394.63</td>\n",
       "      <td>2.94</td>\n",
       "      <td>33.4</td>\n",
       "    </tr>\n",
       "    <tr>\n",
       "      <th>4</th>\n",
       "      <td>0.06905</td>\n",
       "      <td>0.0</td>\n",
       "      <td>2.18</td>\n",
       "      <td>0.0</td>\n",
       "      <td>0.458</td>\n",
       "      <td>7.147</td>\n",
       "      <td>54.2</td>\n",
       "      <td>6.0622</td>\n",
       "      <td>3.0</td>\n",
       "      <td>222.0</td>\n",
       "      <td>18.7</td>\n",
       "      <td>396.90</td>\n",
       "      <td>5.33</td>\n",
       "      <td>36.2</td>\n",
       "    </tr>\n",
       "  </tbody>\n",
       "</table>\n",
       "</div>"
      ],
      "text/plain": [
       "      CRIM    ZN  INDUS  CHAS    NOX     RM   AGE     DIS  RAD    TAX  \\\n",
       "0  0.00632  18.0   2.31   0.0  0.538  6.575  65.2  4.0900  1.0  296.0   \n",
       "1  0.02731   0.0   7.07   0.0  0.469  6.421  78.9  4.9671  2.0  242.0   \n",
       "2  0.02729   0.0   7.07   0.0  0.469  7.185  61.1  4.9671  2.0  242.0   \n",
       "3  0.03237   0.0   2.18   0.0  0.458  6.998  45.8  6.0622  3.0  222.0   \n",
       "4  0.06905   0.0   2.18   0.0  0.458  7.147  54.2  6.0622  3.0  222.0   \n",
       "\n",
       "   PTRATIO       B  LSTAT  PRICE  \n",
       "0     15.3  396.90   4.98   24.0  \n",
       "1     17.8  396.90   9.14   21.6  \n",
       "2     17.8  392.83   4.03   34.7  \n",
       "3     18.7  394.63   2.94   33.4  \n",
       "4     18.7  396.90   5.33   36.2  "
      ]
     },
     "execution_count": 30,
     "metadata": {},
     "output_type": "execute_result"
    }
   ],
   "source": [
    "# 보스턴 집값 예측, 여기서 종속변수(=타겟, =라벨) PRICE가격이 따로 속성으로 있음.\n",
    "# 현재, 데이터 프레임 표에서, 새 컬럼으로 추가하기 PRICE\n",
    "boston_df[\"PRICE\"] = boston.target\n",
    "boston_df.head()"
   ]
  },
  {
   "cell_type": "code",
   "execution_count": 31,
   "metadata": {},
   "outputs": [
    {
     "name": "stdout",
     "output_type": "stream",
     "text": [
      "보스턴 집값의 (506, 14)\n"
     ]
    }
   ],
   "source": [
    "#보스턴 집값 관련 데이터 몇개인지?\n",
    "print(f\"보스턴 집값의 {boston_df.shape}\")\n"
   ]
  },
  {
   "cell_type": "code",
   "execution_count": 32,
   "metadata": {},
   "outputs": [
    {
     "name": "stdout",
     "output_type": "stream",
     "text": [
      "<class 'pandas.core.frame.DataFrame'>\n",
      "RangeIndex: 506 entries, 0 to 505\n",
      "Data columns (total 14 columns):\n",
      " #   Column   Non-Null Count  Dtype  \n",
      "---  ------   --------------  -----  \n",
      " 0   CRIM     506 non-null    float64\n",
      " 1   ZN       506 non-null    float64\n",
      " 2   INDUS    506 non-null    float64\n",
      " 3   CHAS     506 non-null    float64\n",
      " 4   NOX      506 non-null    float64\n",
      " 5   RM       506 non-null    float64\n",
      " 6   AGE      506 non-null    float64\n",
      " 7   DIS      506 non-null    float64\n",
      " 8   RAD      506 non-null    float64\n",
      " 9   TAX      506 non-null    float64\n",
      " 10  PTRATIO  506 non-null    float64\n",
      " 11  B        506 non-null    float64\n",
      " 12  LSTAT    506 non-null    float64\n",
      " 13  PRICE    506 non-null    float64\n",
      "dtypes: float64(14)\n",
      "memory usage: 55.5 KB\n"
     ]
    }
   ],
   "source": [
    "#기본 정보 조회 : info()\n",
    "boston_df.info()"
   ]
  },
  {
   "cell_type": "code",
   "execution_count": 33,
   "metadata": {},
   "outputs": [],
   "source": [
    "#각 컬럼의 정보 (14개)\n",
    "## CRIM : 지역별 범죄 발생률\n",
    "### ZN : 25,000 평방비트를 초과하는 거주 비율\n",
    "### INDUS : 비상업 지역의 넓이의 비율\n",
    "### CHAS : 찰스강의 더비 변수 (1은 강의 경계, 0은 경계아님)\n",
    "### NOX : 일산화질소 농도\n",
    "### RM : 거주할 수 있는 방 갯수\n",
    "### AGE : 1940 년도 이전에 건축된 주택 비율\n",
    "### DIS : 5개 주요 고용센터까지 가중 거리\n",
    "### RAD : 고속도로 접근 용이도\n",
    "### TAX : 10,000 달러당 재산세 비율\n",
    "### PTRATIO : 지역의 교사와 학생 비율\n",
    "### B : 지역의 흑인 거주 비율\n",
    "### LSTAT : 하위 계층 비율\n",
    "### PRICE : 본인 소유 주택 가격의 중앙값"
   ]
  },
  {
   "cell_type": "code",
   "execution_count": 34,
   "metadata": {},
   "outputs": [],
   "source": [
    "#선형(직성) 회귀분석을 이용해서, 분석 보델 구축\n",
    "from sklearn.linear_model import LinearRegression\n",
    "#학습용, 평가용 분리\n",
    "from sklearn.model_selection import train_test_split\n",
    "# 분석 평가지수, MSE(오류의 제곱 평균 : 낮을수록 좋다. 모델의 예측값이, 실제 값과 거의 유사)\n",
    "# R^2 : 예측값/실제값 비율. 클수록 좋다.모델의 예측값이, 실제 값과 거의 유사\n",
    "from sklearn.metrics import mean_squared_error, r2_score"
   ]
  },
  {
   "cell_type": "code",
   "execution_count": 35,
   "metadata": {},
   "outputs": [],
   "source": [
    "# X,Y 분할, 독립변수, 종속변수를 나누는 작업.\n",
    "Y = boston_df[\"PRICE\"]\n",
    "# PRICE를 제외한 나머지 변수 가지고 오기.\n",
    "# axis=1 -> 열 기준\n",
    "# inplace=False -> 원본에 영향x\n",
    "X = boston_df.drop([\"PRICE\"], axis=1, inplace=False)"
   ]
  },
  {
   "cell_type": "code",
   "execution_count": 36,
   "metadata": {},
   "outputs": [],
   "source": [
    "#훈련용, 테스트용으로 데이터를 분리하는 작업\n",
    "#(X,Y,test_size=0.3) -> 독립변수, 종속변수, 평가데이터 비율(30:평가, 70:학습)\n",
    "#random_state=156 -> 동일한 방식으로 데이터 분할.\n",
    "X_train, X_test, Y_train, Y_test = train_test_split(X,Y,test_size=0.3, random_state=156)"
   ]
  },
  {
   "cell_type": "code",
   "execution_count": 37,
   "metadata": {},
   "outputs": [
    {
     "name": "stdout",
     "output_type": "stream",
     "text": [
      "X_train : (354, 13), X_test : (152, 13), X_train : (354,), X_train : (152,)\n"
     ]
    }
   ],
   "source": [
    "print(f\"X_train : {X_train.shape}, X_test : {X_test.shape}, X_train : {Y_train.shape}, X_train : {Y_test.shape}\")"
   ]
  },
  {
   "cell_type": "code",
   "execution_count": 38,
   "metadata": {},
   "outputs": [],
   "source": [
    "#선형 회귀 분석 이용해서, 모델 생성\n",
    "lr = LinearRegression()"
   ]
  },
  {
   "cell_type": "code",
   "execution_count": 39,
   "metadata": {},
   "outputs": [
    {
     "data": {
      "text/plain": [
       "LinearRegression()"
      ]
     },
     "execution_count": 39,
     "metadata": {},
     "output_type": "execute_result"
    }
   ],
   "source": [
    "#모델을 이용해서 훈련(학습)하기 ->fit\n",
    "lr.fit(X_train,Y_train)"
   ]
  },
  {
   "cell_type": "code",
   "execution_count": 40,
   "metadata": {},
   "outputs": [],
   "source": [
    "#학습된 모델을 이용해서 평가하기 -> predict, 예측값을 이용해서, 실제값과 비교하기\n",
    "# 30문제로 평가하기. 예측값 구하기\n",
    "y_predict = lr.predict(X_test)"
   ]
  },
  {
   "cell_type": "code",
   "execution_count": 42,
   "metadata": {},
   "outputs": [
    {
     "name": "stdout",
     "output_type": "stream",
     "text": [
      "mse : 17.29691590790195, rmse : 4.158956107955691, r2_value : 0.757226332313895\n"
     ]
    }
   ],
   "source": [
    "# 평가 분석 지표\n",
    "# MSE : 오류의 제곱 평균\n",
    "# R^2 Score : 예측값/실제값 나눈 비율\n",
    "# Y_test:답지, y_predict:시험 결과\n",
    "mse = mean_squared_error(Y_test, y_predict)\n",
    "# 4 -> 루트 4 -> 2 값을 통일 시켰다. 나중에 스케일링을 많이 함. 정규화 등으로 고쳐야 통계시\n",
    "#효율적으로 작업이 진행되므로 이런 작업 많이 함\n",
    "import numpy as np\n",
    "rmse = np.sqrt(mse)\n",
    "r2_value = r2_score(Y_test,y_predict)\n",
    "\n",
    "print(f\"mse : {mse}, rmse : {rmse}, r2_value : {r2_value}\")"
   ]
  },
  {
   "cell_type": "code",
   "execution_count": 43,
   "metadata": {},
   "outputs": [
    {
     "name": "stdout",
     "output_type": "stream",
     "text": [
      "Y 절편의 값 : 40.995595172164435\n",
      "회귀 계수의 값 : [ -0.1   0.1   0.    3.  -19.8   3.4   0.   -1.7   0.4  -0.   -0.9   0.\n",
      "  -0.6]\n"
     ]
    }
   ],
   "source": [
    "# 선형 회귀 분석, 직선의 구성 요소 ,\n",
    "#  y절편, 계수등에 대해서, 직선을 분석 해보기.\n",
    "print(f\"Y 절편의 값 : {lr.intercept_}\")\n",
    "#독립변수의 계수값\n",
    "print(f\"회귀 계수의 값 : {np.round(lr.coef_,1)}\")"
   ]
  },
  {
   "cell_type": "code",
   "execution_count": 45,
   "metadata": {},
   "outputs": [
    {
     "data": {
      "text/plain": [
       "RM          3.35\n",
       "CHAS        3.05\n",
       "RAD         0.36\n",
       "ZN          0.07\n",
       "INDUS       0.03\n",
       "AGE         0.01\n",
       "B           0.01\n",
       "TAX        -0.01\n",
       "CRIM       -0.11\n",
       "LSTAT      -0.57\n",
       "PTRATIO    -0.92\n",
       "DIS        -1.74\n",
       "NOX       -19.80\n",
       "dtype: float64"
      ]
     },
     "execution_count": 45,
     "metadata": {},
     "output_type": "execute_result"
    }
   ],
   "source": [
    "# CRIM\tZN\tINDUS\tCHAS\tNOX\tRM\tAGE\tDIS\tRAD\tTAX\tPTRATIO\tB\tLSTAT\tPRICE 값 정리 \n",
    "coef = pd.Series(data=np.round(lr.coef_,2), index= X.columns)\n",
    "coef.sort_values(ascending = False)"
   ]
  }
 ],
 "metadata": {
  "kernelspec": {
   "display_name": "Python 3",
   "language": "python",
   "name": "python3"
  },
  "language_info": {
   "codemirror_mode": {
    "name": "ipython",
    "version": 3
   },
   "file_extension": ".py",
   "mimetype": "text/x-python",
   "name": "python",
   "nbconvert_exporter": "python",
   "pygments_lexer": "ipython3",
   "version": "3.10.10"
  }
 },
 "nbformat": 4,
 "nbformat_minor": 2
}
