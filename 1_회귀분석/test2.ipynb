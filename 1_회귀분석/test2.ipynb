{
 "cells": [
  {
   "cell_type": "code",
   "execution_count": null,
   "metadata": {},
   "outputs": [],
   "source": [
    "#자동차 연비 분석, 회귀분석 모델 + 산점도 이용해보기\n",
    "#자동차 연비 모델 가져오기(auto MPG)\n",
    "\n",
    "\n"
   ]
  }
 ],
 "metadata": {
  "language_info": {
   "name": "python"
  }
 },
 "nbformat": 4,
 "nbformat_minor": 2
}
